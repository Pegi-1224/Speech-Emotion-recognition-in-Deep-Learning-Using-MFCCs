{
 "cells": [
  {
   "cell_type": "markdown",
   "id": "46e0ca14-e21f-4986-bdf3-3ee1765959e1",
   "metadata": {},
   "source": [
    "# calculate the average frame for audio"
   ]
  },
  {
   "cell_type": "code",
   "execution_count": 11,
   "id": "b03c92d0-c23f-4c6e-a379-f759bc384ac5",
   "metadata": {},
   "outputs": [
    {
     "name": "stdout",
     "output_type": "stream",
     "text": [
      "Average number of frames per WAV file: 346.65486111111113\n",
      "Average duration of one frame: 21.33 ms\n"
     ]
    }
   ],
   "source": [
    "import os\n",
    "import wave\n",
    "import numpy as np\n",
    "\n",
    "# Specify the directory containing the WAV files\n",
    "directory = r'C:\\Users\\...'\n",
    "# user define Frame length & Hop length for each frame.\n",
    "N_F = 1024\n",
    "N_H = 512\n",
    "\n",
    "total_frames = 0\n",
    "file_count = 0\n",
    "sample_rates = []\n",
    "\n",
    "for filename in os.listdir(directory):\n",
    "    if filename.endswith(\".wav\"):\n",
    "        with wave.open(os.path.join(directory, filename), 'rb') as wav_file:\n",
    "            # Read all frame\n",
    "            frames = wav_file.readframes(wav_file.getnframes())\n",
    "            # Convert audio bytes to a numpy array of integers\n",
    "            # Each audio file has 16 bits per sample\n",
    "            x = np.frombuffer(frames, dtype=np.int16)\n",
    "            \n",
    "            # Calculate the number of frames\n",
    "            # Formula based on Digital Signals Theory book\n",
    "            N_frames = 1 + (len(x) - N_F) // N_H\n",
    "            total_frames += N_frames\n",
    "            file_count += 1\n",
    "\n",
    "            # Get and store the sample rate\n",
    "            sample_rates.append(wav_file.getframerate())\n",
    "\n",
    "# Calculate the average number of frames\n",
    "average_frames = total_frames / file_count\n",
    "print(f\"Average number of frames per WAV file: {average_frames}\")\n",
    "\n",
    "# Get the average sample rate\n",
    "average_sample_rate = sum(sample_rates) / len(sample_rates)\n",
    "\n",
    "# Get the average frame duration\n",
    "frame_duration_ms = (N_F / average_sample_rate) * 1000\n",
    "print(f\"Average duration of one frame: {frame_duration_ms:.2f} ms\")"
   ]
  },
  {
   "cell_type": "code",
   "execution_count": 12,
   "id": "92a7710d-c08b-423b-8f8f-f73cdaf81f9b",
   "metadata": {},
   "outputs": [
    {
     "name": "stdout",
     "output_type": "stream",
     "text": [
      "Average number of frames per WAV file: 172.58263888888888\n",
      "Average duration of one frame: 42.67 ms\n"
     ]
    }
   ],
   "source": [
    "# Specify the directory containing the WAV files\n",
    "directory = r'C:\\Users\\...'\n",
    "# user define Frame length & Hop length for each frame.\n",
    "N_F = 2048\n",
    "N_H = 1024\n",
    "\n",
    "total_frames = 0\n",
    "file_count = 0\n",
    "sample_rates = []\n",
    "\n",
    "for filename in os.listdir(directory):\n",
    "    if filename.endswith(\".wav\"):\n",
    "        with wave.open(os.path.join(directory, filename), 'rb') as wav_file:\n",
    "            # Read all frame\n",
    "            frames = wav_file.readframes(wav_file.getnframes())\n",
    "            # Convert audio bytes to a numpy array of integers\n",
    "            # Each audio file has 16 bits per sample\n",
    "            x = np.frombuffer(frames, dtype=np.int16)\n",
    "            \n",
    "            # Calculate the number of frames\n",
    "            # Formula based on Digital Signals Theory book\n",
    "            N_frames = 1 + (len(x) - N_F) // N_H\n",
    "            total_frames += N_frames\n",
    "            file_count += 1\n",
    "\n",
    "            # Get and store the sample rate\n",
    "            sample_rates.append(wav_file.getframerate())\n",
    "\n",
    "# Calculate the average number of frames\n",
    "average_frames = total_frames / file_count\n",
    "print(f\"Average number of frames per WAV file: {average_frames}\")\n",
    "\n",
    "# Get the average sample rate\n",
    "average_sample_rate = sum(sample_rates) / len(sample_rates)\n",
    "\n",
    "# Get the average frame duration\n",
    "frame_duration_ms = (N_F / average_sample_rate) * 1000\n",
    "print(f\"Average duration of one frame: {frame_duration_ms:.2f} ms\")"
   ]
  },
  {
   "cell_type": "code",
   "execution_count": 13,
   "id": "530b240a-cd6d-40b0-81f4-b8627e6fe75e",
   "metadata": {},
   "outputs": [
    {
     "name": "stdout",
     "output_type": "stream",
     "text": [
      "Average number of frames per WAV file: 85.53888888888889\n",
      "Average duration of one frame: 85.33 ms\n"
     ]
    }
   ],
   "source": [
    "# Specify the directory containing the WAV files\n",
    "directory = r'C:\\Users\\...'\n",
    "# user define Frame length & Hop length for each frame.\n",
    "N_F = 4096\n",
    "N_H = 2048\n",
    "\n",
    "total_frames = 0\n",
    "file_count = 0\n",
    "sample_rates = []\n",
    "\n",
    "for filename in os.listdir(directory):\n",
    "    if filename.endswith(\".wav\"):\n",
    "        with wave.open(os.path.join(directory, filename), 'rb') as wav_file:\n",
    "            # Read all frame\n",
    "            frames = wav_file.readframes(wav_file.getnframes())\n",
    "            # Convert audio bytes to a numpy array of integers\n",
    "            # Each audio file has 16 bits per sample\n",
    "            x = np.frombuffer(frames, dtype=np.int16)\n",
    "            \n",
    "            # Calculate the number of frames\n",
    "            # Formula based on Digital Signals Theory book\n",
    "            N_frames = 1 + (len(x) - N_F) // N_H\n",
    "            total_frames += N_frames\n",
    "            file_count += 1\n",
    "\n",
    "            # Get and store the sample rate\n",
    "            sample_rates.append(wav_file.getframerate())\n",
    "\n",
    "# Calculate the average number of frames\n",
    "average_frames = total_frames / file_count\n",
    "print(f\"Average number of frames per WAV file: {average_frames}\")\n",
    "\n",
    "# Get the average sample rate\n",
    "average_sample_rate = sum(sample_rates) / len(sample_rates)\n",
    "\n",
    "# Get the average frame duration\n",
    "frame_duration_ms = (N_F / average_sample_rate) * 1000\n",
    "print(f\"Average duration of one frame: {frame_duration_ms:.2f} ms\")"
   ]
  },
  {
   "cell_type": "code",
   "execution_count": 14,
   "id": "74540d05-cbb9-4a9e-a56a-e5b2fe350517",
   "metadata": {},
   "outputs": [
    {
     "name": "stdout",
     "output_type": "stream",
     "text": [
      "Average number of frames per WAV file: 43.02569444444445\n",
      "Average duration of one frame: 85.33 ms\n"
     ]
    }
   ],
   "source": [
    "# Specify the directory containing the WAV files\n",
    "directory = r'C:\\Users\\...'\n",
    "# user define Frame length & Hop length for each frame.\n",
    "N_F = 4096\n",
    "N_H = 4096\n",
    "\n",
    "total_frames = 0\n",
    "file_count = 0\n",
    "sample_rates = []\n",
    "\n",
    "for filename in os.listdir(directory):\n",
    "    if filename.endswith(\".wav\"):\n",
    "        with wave.open(os.path.join(directory, filename), 'rb') as wav_file:\n",
    "            # Read all frame\n",
    "            frames = wav_file.readframes(wav_file.getnframes())\n",
    "            # Convert audio bytes to a numpy array of integers\n",
    "            # Each audio file has 16 bits per sample\n",
    "            x = np.frombuffer(frames, dtype=np.int16)\n",
    "            \n",
    "            # Calculate the number of frames\n",
    "            # Formula based on Digital Signals Theory book\n",
    "            N_frames = 1 + (len(x) - N_F) // N_H\n",
    "            total_frames += N_frames\n",
    "            file_count += 1\n",
    "\n",
    "            # Get and store the sample rate\n",
    "            sample_rates.append(wav_file.getframerate())\n",
    "\n",
    "# Calculate the average number of frames\n",
    "average_frames = total_frames / file_count\n",
    "print(f\"Average number of frames per WAV file: {average_frames}\")\n",
    "\n",
    "# Get the average sample rate\n",
    "average_sample_rate = sum(sample_rates) / len(sample_rates)\n",
    "\n",
    "# Get the average frame duration\n",
    "frame_duration_ms = (N_F / average_sample_rate) * 1000\n",
    "print(f\"Average duration of one frame: {frame_duration_ms:.2f} ms\")"
   ]
  },
  {
   "cell_type": "markdown",
   "id": "f1340958-b435-4133-9417-acecc34a42ea",
   "metadata": {},
   "source": [
    "# Get the MFCCs for all audio (for target_frames = 43 & 347)"
   ]
  },
  {
   "cell_type": "code",
   "execution_count": 10,
   "id": "cb5e0d6e-df5c-4898-9bde-3345ffa20b68",
   "metadata": {},
   "outputs": [],
   "source": [
    "import librosa\n",
    "\n",
    "def process_audio_files(directory, target_frames):\n",
    "    sr=22050\n",
    "    n_mfcc=128\n",
    "    features = []\n",
    "    for filename in os.listdir(directory):\n",
    "        if filename.endswith(\".wav\"):\n",
    "            file_path = os.path.join(directory, filename)\n",
    "            # Load audio file\n",
    "            y, sr = librosa.load(file_path, sr=sr)\n",
    "            \n",
    "            # Compute MFCCs\n",
    "            mfcc = librosa.feature.mfcc(y=y, sr=sr, n_mfcc=n_mfcc)\n",
    "            \n",
    "            if mfcc.shape[1] > target_frames:\n",
    "                mfcc = mfcc[:, :target_frames]\n",
    "            elif mfcc.shape[1] < target_frames:\n",
    "                # Pad with zeros if there are fewer frames than needed\n",
    "                padding = np.zeros((n_mfcc, target_frames - mfcc.shape[1]))\n",
    "                mfcc = np.concatenate((mfcc, padding), axis=1)\n",
    "            \n",
    "            features.append(mfcc)\n",
    "\n",
    "    # Convert list to 3D numpy array\n",
    "    features = np.stack(features)\n",
    "\n",
    "    # Save all features to .npy file\n",
    "    output_file_name = f'all_mfcc_features_{str(target_frames)}.npy'\n",
    "    output_file_path = os.path.join(directory, output_file_name)\n",
    "    np.save(output_file_path, features)  # Saving in .npy format\n",
    "\n",
    "    return features\n",
    "\n",
    "# Specify the directory that containing audio files\n",
    "directory = r'C:\\Users\\....'\n",
    "all_features = process_audio_files(directory, 347)\n",
    "all_features = process_audio_files(directory, 173)\n",
    "all_features = process_audio_files(directory, 86)\n",
    "all_features = process_audio_files(directory, 43)"
   ]
  },
  {
   "cell_type": "markdown",
   "id": "5f7d63cb-a4a5-48be-8d55-a724cb562d1c",
   "metadata": {},
   "source": [
    "# Get the label for all audio"
   ]
  },
  {
   "cell_type": "code",
   "execution_count": null,
   "id": "87600cd5-e195-4ada-921c-a29e43cc35ea",
   "metadata": {},
   "outputs": [],
   "source": [
    "def extract_labels_and_save(directory):\n",
    "    labels = []\n",
    "    # Get the file name\n",
    "    for filename in os.listdir(directory):\n",
    "        if filename.endswith(\".wav\"):\n",
    "            parts = filename.split('-')\n",
    "            # Extract the label (third part)\n",
    "            label = int(parts[2])\n",
    "            labels.append(label)\n",
    "    \n",
    "    # Convert list to NumPy array\n",
    "    labels_array = np.array(labels)\n",
    "    \n",
    "    # Save in the .npy file\n",
    "    output_file_path = os.path.join(directory, 'labels.npy')\n",
    "    np.save(output_file_path, labels_array)\n",
    "    return labels_array\n",
    "\n",
    "# Specify the directory that containing audio files\n",
    "directory = r'C:\\Users\\....'\n",
    "labels = extract_labels_and_save(directory)"
   ]
  }
 ],
 "metadata": {
  "kernelspec": {
   "display_name": "Python (base)",
   "language": "python",
   "name": "base"
  },
  "language_info": {
   "codemirror_mode": {
    "name": "ipython",
    "version": 3
   },
   "file_extension": ".py",
   "mimetype": "text/x-python",
   "name": "python",
   "nbconvert_exporter": "python",
   "pygments_lexer": "ipython3",
   "version": "3.11.7"
  }
 },
 "nbformat": 4,
 "nbformat_minor": 5
}
